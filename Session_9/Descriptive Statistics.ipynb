{
 "cells": [
  {
   "cell_type": "code",
   "execution_count": 5,
   "id": "5f62ce26",
   "metadata": {},
   "outputs": [],
   "source": [
    "import math\n",
    "import statistics\n",
    "import numpy as np\n",
    "import scipy.stats\n",
    "import pandas as pd"
   ]
  },
  {
   "cell_type": "code",
   "execution_count": 2,
   "id": "59eb75fe",
   "metadata": {},
   "outputs": [],
   "source": [
    "x = [8.0, 1, 2, 1.5, 8, 17]\n",
    "x_with_nan = [8.0, 1, 2, math.nan, 1.5, 8, 17]"
   ]
  },
  {
   "cell_type": "code",
   "execution_count": 3,
   "id": "65a1970a",
   "metadata": {},
   "outputs": [
    {
     "name": "stdout",
     "output_type": "stream",
     "text": [
      "[8.0, 1, 2, 1.5, 8, 17]\n",
      "[8.0, 1, 2, nan, 1.5, 8, 17]\n"
     ]
    }
   ],
   "source": [
    "print(x)\n",
    "print(x_with_nan)"
   ]
  },
  {
   "cell_type": "code",
   "execution_count": 7,
   "id": "bfbe7c88",
   "metadata": {},
   "outputs": [],
   "source": [
    "y, y_with_nan = np.array(x), np.array(x_with_nan)\n",
    "z, z_with_nan = pd.Series(x), pd.Series(x_with_nan)"
   ]
  },
  {
   "cell_type": "code",
   "execution_count": 18,
   "id": "cfd6f5d2",
   "metadata": {},
   "outputs": [
    {
     "name": "stdout",
     "output_type": "stream",
     "text": [
      "nan\n"
     ]
    }
   ],
   "source": [
    "print(np.mean(y_with_nan))"
   ]
  },
  {
   "cell_type": "code",
   "execution_count": 20,
   "id": "b4207b8f",
   "metadata": {},
   "outputs": [],
   "source": [
    "#weighted mean\n",
    "w = [0.7, 0.8, 0.1, 0.2, 0.3, 0.7]"
   ]
  },
  {
   "cell_type": "code",
   "execution_count": 25,
   "id": "b0e02d23",
   "metadata": {},
   "outputs": [
    {
     "data": {
      "text/plain": [
       "7.57142857142857"
      ]
     },
     "execution_count": 25,
     "metadata": {},
     "output_type": "execute_result"
    }
   ],
   "source": [
    "wmean = sum(w[i] * x[i] for i in range(len(x)))/sum(w)\n",
    "wmean"
   ]
  },
  {
   "cell_type": "code",
   "execution_count": 26,
   "id": "33f12ea1",
   "metadata": {},
   "outputs": [
    {
     "data": {
      "text/plain": [
       "7.57142857142857"
      ]
     },
     "execution_count": 26,
     "metadata": {},
     "output_type": "execute_result"
    }
   ],
   "source": [
    "wmeanbp = np.average(y, weights= w)\n",
    "wmeanbp"
   ]
  },
  {
   "cell_type": "code",
   "execution_count": 29,
   "id": "e48bb649",
   "metadata": {},
   "outputs": [
    {
     "data": {
      "text/plain": [
       "2.4237623762376237"
      ]
     },
     "execution_count": 29,
     "metadata": {},
     "output_type": "execute_result"
    }
   ],
   "source": [
    "# harmonic mean\n",
    "harmonicmean_stat = statistics.harmonic_mean(x)\n",
    "harmonicmean_stat"
   ]
  },
  {
   "cell_type": "code",
   "execution_count": 31,
   "id": "b172d715",
   "metadata": {},
   "outputs": [
    {
     "name": "stdout",
     "output_type": "stream",
     "text": [
      "0.5916079783099616\n"
     ]
    }
   ],
   "source": [
    "# geometric mean\n",
    "gmean = math.sqrt(1/20 * 7)\n",
    "print(gmean)"
   ]
  },
  {
   "cell_type": "code",
   "execution_count": 37,
   "id": "5c5f782f",
   "metadata": {},
   "outputs": [
    {
     "data": {
      "text/plain": [
       "[1, 1.5, 2, 8.0, 8, 17]"
      ]
     },
     "execution_count": 37,
     "metadata": {},
     "output_type": "execute_result"
    }
   ],
   "source": [
    "# median\n",
    "data = [8.0, 1, 2, 1.5, 8, 17]\n",
    "data.sort()\n",
    "data"
   ]
  },
  {
   "cell_type": "code",
   "execution_count": 38,
   "id": "24045cae",
   "metadata": {},
   "outputs": [
    {
     "data": {
      "text/plain": [
       "5.0"
      ]
     },
     "execution_count": 38,
     "metadata": {},
     "output_type": "execute_result"
    }
   ],
   "source": [
    "medianData = np.median(data)\n",
    "medianData"
   ]
  },
  {
   "cell_type": "code",
   "execution_count": 40,
   "id": "83fd96fe",
   "metadata": {},
   "outputs": [
    {
     "data": {
      "text/plain": [
       "4"
      ]
     },
     "execution_count": 40,
     "metadata": {},
     "output_type": "execute_result"
    }
   ],
   "source": [
    "# modus\n",
    "modusData = [1,2,4,5,4,5,6,6,2,3,4,7,7]\n",
    "\n",
    "modusDataa = max((modusData.count(item), item) for item in set(modusData))[1]\n",
    "modusDataa"
   ]
  },
  {
   "cell_type": "code",
   "execution_count": 45,
   "id": "758f17f0",
   "metadata": {},
   "outputs": [
    {
     "data": {
      "text/plain": [
       "4"
      ]
     },
     "execution_count": 45,
     "metadata": {},
     "output_type": "execute_result"
    }
   ],
   "source": [
    "modusDataStat = statistics.mode(modusData)\n",
    "modusDataStat"
   ]
  },
  {
   "cell_type": "code",
   "execution_count": 46,
   "id": "e7f202f8",
   "metadata": {},
   "outputs": [
    {
     "data": {
      "text/plain": [
       "range(2, 10)"
      ]
     },
     "execution_count": 46,
     "metadata": {},
     "output_type": "execute_result"
    }
   ],
   "source": [
    "range(2,10)"
   ]
  },
  {
   "cell_type": "code",
   "execution_count": 47,
   "id": "33d6f811",
   "metadata": {},
   "outputs": [],
   "source": [
    "twod = np.array([\n",
    "    [1,1,1],\n",
    "    [1,2,4],\n",
    "    [4,8,9],\n",
    "    [5,6,7]\n",
    "    \n",
    "])"
   ]
  },
  {
   "cell_type": "code",
   "execution_count": 50,
   "id": "33e67dda",
   "metadata": {},
   "outputs": [
    {
     "data": {
      "text/plain": [
       "4.083333333333333"
      ]
     },
     "execution_count": 50,
     "metadata": {},
     "output_type": "execute_result"
    }
   ],
   "source": [
    "np.mean(twod)"
   ]
  },
  {
   "cell_type": "code",
   "execution_count": 51,
   "id": "5efe39dc",
   "metadata": {},
   "outputs": [
    {
     "data": {
      "text/html": [
       "<div>\n",
       "<style scoped>\n",
       "    .dataframe tbody tr th:only-of-type {\n",
       "        vertical-align: middle;\n",
       "    }\n",
       "\n",
       "    .dataframe tbody tr th {\n",
       "        vertical-align: top;\n",
       "    }\n",
       "\n",
       "    .dataframe thead th {\n",
       "        text-align: right;\n",
       "    }\n",
       "</style>\n",
       "<table border=\"1\" class=\"dataframe\">\n",
       "  <thead>\n",
       "    <tr style=\"text-align: right;\">\n",
       "      <th></th>\n",
       "      <th>a</th>\n",
       "      <th>b</th>\n",
       "      <th>c</th>\n",
       "    </tr>\n",
       "  </thead>\n",
       "  <tbody>\n",
       "    <tr>\n",
       "      <th>1</th>\n",
       "      <td>1</td>\n",
       "      <td>1</td>\n",
       "      <td>1</td>\n",
       "    </tr>\n",
       "    <tr>\n",
       "      <th>2</th>\n",
       "      <td>1</td>\n",
       "      <td>2</td>\n",
       "      <td>4</td>\n",
       "    </tr>\n",
       "    <tr>\n",
       "      <th>3</th>\n",
       "      <td>4</td>\n",
       "      <td>8</td>\n",
       "      <td>9</td>\n",
       "    </tr>\n",
       "    <tr>\n",
       "      <th>4</th>\n",
       "      <td>5</td>\n",
       "      <td>6</td>\n",
       "      <td>7</td>\n",
       "    </tr>\n",
       "  </tbody>\n",
       "</table>\n",
       "</div>"
      ],
      "text/plain": [
       "   a  b  c\n",
       "1  1  1  1\n",
       "2  1  2  4\n",
       "3  4  8  9\n",
       "4  5  6  7"
      ]
     },
     "execution_count": 51,
     "metadata": {},
     "output_type": "execute_result"
    }
   ],
   "source": [
    "row_names =[1,2,3,4]\n",
    "col_name = [\"a\",\"b\",\"c\"]\n",
    "\n",
    "df =pd.DataFrame(twod, index = row_names, columns= col_name)\n",
    "df"
   ]
  },
  {
   "cell_type": "code",
   "execution_count": 55,
   "id": "06417c38",
   "metadata": {},
   "outputs": [
    {
     "data": {
      "text/plain": [
       "2.75"
      ]
     },
     "execution_count": 55,
     "metadata": {},
     "output_type": "execute_result"
    }
   ],
   "source": [
    "df['a'].mean()"
   ]
  },
  {
   "cell_type": "code",
   "execution_count": null,
   "id": "6752056e",
   "metadata": {},
   "outputs": [],
   "source": []
  }
 ],
 "metadata": {
  "kernelspec": {
   "display_name": "Python 3",
   "language": "python",
   "name": "python3"
  },
  "language_info": {
   "codemirror_mode": {
    "name": "ipython",
    "version": 3
   },
   "file_extension": ".py",
   "mimetype": "text/x-python",
   "name": "python",
   "nbconvert_exporter": "python",
   "pygments_lexer": "ipython3",
   "version": "3.8.5"
  },
  "toc": {
   "base_numbering": 1,
   "nav_menu": {},
   "number_sections": true,
   "sideBar": true,
   "skip_h1_title": false,
   "title_cell": "Table of Contents",
   "title_sidebar": "Contents",
   "toc_cell": false,
   "toc_position": {},
   "toc_section_display": true,
   "toc_window_display": false
  }
 },
 "nbformat": 4,
 "nbformat_minor": 5
}
