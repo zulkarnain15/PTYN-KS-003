{
 "cells": [
  {
   "cell_type": "markdown",
   "id": "1c66a5f6",
   "metadata": {},
   "source": [
    "## Numpy"
   ]
  },
  {
   "cell_type": "code",
   "execution_count": 145,
   "id": "e3bea036",
   "metadata": {},
   "outputs": [],
   "source": [
    "import numpy as np"
   ]
  },
  {
   "cell_type": "code",
   "execution_count": 146,
   "id": "a5177771",
   "metadata": {},
   "outputs": [],
   "source": [
    "myArray = np.array([[1,2,3],\n",
    "                    [4,5,6]])"
   ]
  },
  {
   "cell_type": "code",
   "execution_count": 147,
   "id": "878cf940",
   "metadata": {},
   "outputs": [
    {
     "data": {
      "text/plain": [
       "array([[1, 2, 3],\n",
       "       [4, 5, 6]])"
      ]
     },
     "execution_count": 147,
     "metadata": {},
     "output_type": "execute_result"
    }
   ],
   "source": [
    "myArray"
   ]
  },
  {
   "cell_type": "code",
   "execution_count": 148,
   "id": "0e31a564",
   "metadata": {},
   "outputs": [
    {
     "name": "stdout",
     "output_type": "stream",
     "text": [
      "my array [[1 2 3]\n",
      " [4 5 6]]\n",
      "add [[3 4 5]\n",
      " [6 7 8]]\n",
      "reduce [[-1  0  1]\n",
      " [ 2  3  4]]\n",
      "square [[ 1  4  9]\n",
      " [16 25 36]]\n"
     ]
    }
   ],
   "source": [
    "# operasi satu bilangan\n",
    "addMyArray = myArray + 2\n",
    "reduceMyArray = myArray - 2\n",
    "square = myArray ** 2\n",
    "print('my array', myArray)\n",
    "print('add', addMyArray)\n",
    "print('reduce', reduceMyArray)\n",
    "print('square', square)"
   ]
  },
  {
   "cell_type": "code",
   "execution_count": null,
   "id": "f39479c7",
   "metadata": {},
   "outputs": [],
   "source": []
  },
  {
   "cell_type": "code",
   "execution_count": 149,
   "id": "931f63f0",
   "metadata": {},
   "outputs": [
    {
     "data": {
      "text/plain": [
       "array([[False, False, False],\n",
       "       [False,  True,  True]])"
      ]
     },
     "execution_count": 149,
     "metadata": {},
     "output_type": "execute_result"
    }
   ],
   "source": [
    "# boolean\n",
    "isMyArrayMoreThan3 = myArray > 4\n",
    "\n",
    "isMyArrayMoreThan3"
   ]
  },
  {
   "cell_type": "code",
   "execution_count": 150,
   "id": "eb4eb4e8",
   "metadata": {},
   "outputs": [
    {
     "name": "stdout",
     "output_type": "stream",
     "text": [
      "[5 6]\n"
     ]
    }
   ],
   "source": [
    "# filtering\n",
    "valuseMoreThan3c = myArray[myArray > 4]\n",
    "print(valuseMoreThan3c)"
   ]
  },
  {
   "cell_type": "code",
   "execution_count": 151,
   "id": "4ec335ce",
   "metadata": {},
   "outputs": [],
   "source": [
    "array2D = np.array([[1,2,3,4],\n",
    "                    [5,6,7,8],\n",
    "                    [9,10,11,12]])"
   ]
  },
  {
   "cell_type": "code",
   "execution_count": 152,
   "id": "7512ad78",
   "metadata": {},
   "outputs": [
    {
     "data": {
      "text/plain": [
       "array([[ 1,  2,  3,  4],\n",
       "       [ 5,  6,  7,  8],\n",
       "       [ 9, 10, 11, 12]])"
      ]
     },
     "execution_count": 152,
     "metadata": {},
     "output_type": "execute_result"
    }
   ],
   "source": [
    "array2D"
   ]
  },
  {
   "cell_type": "code",
   "execution_count": 153,
   "id": "43935743",
   "metadata": {},
   "outputs": [
    {
     "name": "stdout",
     "output_type": "stream",
     "text": [
      "(3, 4)\n"
     ]
    }
   ],
   "source": [
    "# ukuran array\n",
    "print(array2D.shape)"
   ]
  },
  {
   "cell_type": "code",
   "execution_count": 154,
   "id": "8bf6d46f",
   "metadata": {},
   "outputs": [
    {
     "name": "stdout",
     "output_type": "stream",
     "text": [
      "4\n"
     ]
    }
   ],
   "source": [
    "# try to get 4\n",
    "print(array2D[0,3])"
   ]
  },
  {
   "cell_type": "code",
   "execution_count": 155,
   "id": "2ba1af90",
   "metadata": {},
   "outputs": [
    {
     "name": "stdout",
     "output_type": "stream",
     "text": [
      "[[ 2  3]\n",
      " [ 6  7]\n",
      " [10 11]]\n"
     ]
    }
   ],
   "source": [
    "# rentang array \n",
    "print(array2D[:,1:3])"
   ]
  },
  {
   "cell_type": "code",
   "execution_count": 156,
   "id": "6ff7edb0",
   "metadata": {},
   "outputs": [
    {
     "data": {
      "text/plain": [
       "array([[ 1,  2,  3,  4],\n",
       "       [ 5,  6,  7,  8],\n",
       "       [ 9, 10, 11, 12]])"
      ]
     },
     "execution_count": 156,
     "metadata": {},
     "output_type": "execute_result"
    }
   ],
   "source": [
    "array2D[0:][0:3]"
   ]
  },
  {
   "cell_type": "code",
   "execution_count": 157,
   "id": "a8656ce7",
   "metadata": {},
   "outputs": [],
   "source": [
    "# import data from csv\n",
    "myStudentData = np.genfromtxt('./data.csv', skip_header=1, delimiter=',', filling_values=40)"
   ]
  },
  {
   "cell_type": "code",
   "execution_count": 158,
   "id": "72aaf772",
   "metadata": {},
   "outputs": [
    {
     "data": {
      "text/plain": [
       "array([[70., 75., 80., 30.],\n",
       "       [75., 80., 90., 68.],\n",
       "       [65., 77., 60., 90.],\n",
       "       [40., 60., 55., 75.]])"
      ]
     },
     "execution_count": 158,
     "metadata": {},
     "output_type": "execute_result"
    }
   ],
   "source": [
    "myStudentData"
   ]
  },
  {
   "cell_type": "code",
   "execution_count": 159,
   "id": "6325ba1a",
   "metadata": {},
   "outputs": [
    {
     "data": {
      "text/plain": [
       "array([75., 80., 90., 90.])"
      ]
     },
     "execution_count": 159,
     "metadata": {},
     "output_type": "execute_result"
    }
   ],
   "source": [
    "# nilai terbesar setiap mapel\n",
    "maxInclass= np.amax(myStudentData, axis=0)\n",
    "maxInclass"
   ]
  },
  {
   "cell_type": "code",
   "execution_count": 166,
   "id": "43a5eb2e",
   "metadata": {},
   "outputs": [
    {
     "data": {
      "text/plain": [
       "array([61. , 71.4, 68.2, 65.8])"
      ]
     },
     "execution_count": 166,
     "metadata": {},
     "output_type": "execute_result"
    }
   ],
   "source": [
    "# nilai rata2 setiap mapel\n",
    "rata2SiswaSetiapMapel = np.mean(myStudentData, axis=0)\n",
    "rata2SiswaSetiapMapel"
   ]
  },
  {
   "cell_type": "code",
   "execution_count": 161,
   "id": "f1b33690",
   "metadata": {},
   "outputs": [
    {
     "data": {
      "text/plain": [
       "array([[70., 75., 80., 30.],\n",
       "       [75., 80., 90., 68.],\n",
       "       [65., 77., 60., 90.],\n",
       "       [40., 60., 55., 75.],\n",
       "       [55., 65., 56., 66.]])"
      ]
     },
     "execution_count": 161,
     "metadata": {},
     "output_type": "execute_result"
    }
   ],
   "source": [
    "myStudentData = np.append(myStudentData, [[55,65,56,66]], axis=0)\n",
    "myStudentData"
   ]
  },
  {
   "cell_type": "code",
   "execution_count": 167,
   "id": "50c8c334",
   "metadata": {},
   "outputs": [
    {
     "data": {
      "text/plain": [
       "array([40., 60., 55., 30.])"
      ]
     },
     "execution_count": 167,
     "metadata": {},
     "output_type": "execute_result"
    }
   ],
   "source": [
    "minInclass = np.min(myStudentData, axis=0)\n",
    "minInclass"
   ]
  },
  {
   "cell_type": "code",
   "execution_count": 168,
   "id": "2572bbb2",
   "metadata": {},
   "outputs": [
    {
     "data": {
      "text/plain": [
       "array([65., 75., 60., 68.])"
      ]
     },
     "execution_count": 168,
     "metadata": {},
     "output_type": "execute_result"
    }
   ],
   "source": [
    "medianInclass = np.median(myStudentData, axis=0)\n",
    "medianInclass"
   ]
  },
  {
   "cell_type": "code",
   "execution_count": 169,
   "id": "caa94643",
   "metadata": {},
   "outputs": [
    {
     "data": {
      "text/plain": [
       "array([61. , 71.4, 68.2, 65.8])"
      ]
     },
     "execution_count": 169,
     "metadata": {},
     "output_type": "execute_result"
    }
   ],
   "source": [
    "avgInclass = np.average(myStudentData, axis=0)\n",
    "avgInclass"
   ]
  },
  {
   "cell_type": "code",
   "execution_count": 170,
   "id": "2d6762b8",
   "metadata": {},
   "outputs": [
    {
     "data": {
      "text/plain": [
       "array([305., 357., 341., 329.])"
      ]
     },
     "execution_count": 170,
     "metadata": {},
     "output_type": "execute_result"
    }
   ],
   "source": [
    "jumlahNilaiInclass = np.sum(myStudentData, axis=0)\n",
    "jumlahNilaiInclass"
   ]
  },
  {
   "cell_type": "code",
   "execution_count": 171,
   "id": "1cf3b009",
   "metadata": {},
   "outputs": [],
   "source": [
    "[y,x] = myStudentData.shape"
   ]
  },
  {
   "cell_type": "code",
   "execution_count": 199,
   "id": "8220014f",
   "metadata": {},
   "outputs": [
    {
     "data": {
      "text/plain": [
       "array([[70., 75., 80., 30.],\n",
       "       [75., 80., 90., 68.],\n",
       "       [65., 77., 60., 90.],\n",
       "       [40., 60., 55., 75.],\n",
       "       [55., 65., 56., 66.]])"
      ]
     },
     "execution_count": 199,
     "metadata": {},
     "output_type": "execute_result"
    }
   ],
   "source": [
    "myStudentData[:y,:x]"
   ]
  },
  {
   "cell_type": "code",
   "execution_count": 198,
   "id": "111c21f1",
   "metadata": {},
   "outputs": [
    {
     "data": {
      "text/plain": [
       "array([[70., 75., 80., 30.],\n",
       "       [75., 80., 90., 68.],\n",
       "       [65., 77., 60., 90.],\n",
       "       [40., 60., 55., 75.]])"
      ]
     },
     "execution_count": 198,
     "metadata": {},
     "output_type": "execute_result"
    }
   ],
   "source": [
    "myNewStudent = np.delete(myStudentData, [4], axis=0)\n",
    "myNewStudent"
   ]
  },
  {
   "cell_type": "code",
   "execution_count": 203,
   "id": "641d8803",
   "metadata": {},
   "outputs": [
    {
     "name": "stdout",
     "output_type": "stream",
     "text": [
      "[[70. 75.]\n",
      " [80. 30.]\n",
      " [75. 80.]\n",
      " [90. 68.]\n",
      " [65. 77.]\n",
      " [60. 90.]\n",
      " [40. 60.]\n",
      " [55. 75.]\n",
      " [55. 65.]\n",
      " [56. 66.]]\n",
      "========\n",
      " [[70. 75. 80.]\n",
      " [30. 75. 80.]\n",
      " [90. 68. 65.]\n",
      " [77. 60. 90.]\n",
      " [40. 60. 55.]\n",
      " [75. 55. 65.]\n",
      " [56. 66. 70.]\n",
      " [75. 80. 30.]\n",
      " [75. 80. 90.]\n",
      " [68. 65. 77.]]\n"
     ]
    }
   ],
   "source": [
    "# reshape and resize\n",
    "newReshape = np.reshape(myStudentData,[10,2])\n",
    "newResize = np.resize(myStudentData,[10,3])\n",
    "print(newReshape)\n",
    "print('========\\n',newResize)"
   ]
  },
  {
   "cell_type": "code",
   "execution_count": 206,
   "id": "d97474dc",
   "metadata": {},
   "outputs": [
    {
     "name": "stdout",
     "output_type": "stream",
     "text": [
      "[[1. 0. 0. 0. 0.]\n",
      " [0. 1. 0. 0. 0.]\n",
      " [0. 0. 1. 0. 0.]\n",
      " [0. 0. 0. 1. 0.]\n",
      " [0. 0. 0. 0. 1.]]\n"
     ]
    }
   ],
   "source": [
    "# array of eye\n",
    "eyes = np.eye(5,5)\n",
    "print(eyes)"
   ]
  },
  {
   "cell_type": "code",
   "execution_count": 207,
   "id": "f0272e67",
   "metadata": {},
   "outputs": [],
   "source": [
    "array_1 = np.array([[1,2,3],\n",
    "                    [4,5,6]])\n",
    "array_2 = np.array([[1,5,3],\n",
    "                    [4,2,3]])\n",
    "array_3 = np.array([[4,6,2],\n",
    "                    [1,2,6]])"
   ]
  },
  {
   "cell_type": "code",
   "execution_count": 215,
   "id": "5120fadf",
   "metadata": {},
   "outputs": [
    {
     "data": {
      "text/plain": [
       "array([[22, 23],\n",
       "       [58, 50]])"
      ]
     },
     "execution_count": 215,
     "metadata": {},
     "output_type": "execute_result"
    }
   ],
   "source": [
    "# perlalian matrix\n",
    "arr1Kaliarr2 = np.dot(array_1,np.transpose(array_3))\n",
    "arr1Kaliarr2"
   ]
  },
  {
   "cell_type": "markdown",
   "id": "58f0c233",
   "metadata": {},
   "source": [
    "#### 1d to 2d"
   ]
  },
  {
   "cell_type": "code",
   "execution_count": 221,
   "id": "45f57c5e",
   "metadata": {},
   "outputs": [],
   "source": [
    "oneDarray = np.array([1,2,3,4,5,6,7,8,9,0])\n",
    "twoDarray = oneDarray.reshape(2,5)"
   ]
  },
  {
   "cell_type": "code",
   "execution_count": 222,
   "id": "84bf4f62",
   "metadata": {},
   "outputs": [
    {
     "data": {
      "text/plain": [
       "array([[1, 2, 3, 4, 5],\n",
       "       [6, 7, 8, 9, 0]])"
      ]
     },
     "execution_count": 222,
     "metadata": {},
     "output_type": "execute_result"
    }
   ],
   "source": [
    "twoDarray"
   ]
  },
  {
   "cell_type": "code",
   "execution_count": 223,
   "id": "f7db8394",
   "metadata": {},
   "outputs": [
    {
     "data": {
      "text/plain": [
       "array([1, 2, 3, 4, 5, 6, 7, 8, 9, 0])"
      ]
     },
     "execution_count": 223,
     "metadata": {},
     "output_type": "execute_result"
    }
   ],
   "source": [
    "[y,x] = twoDarray.shape\n",
    "backTOoneD = twoDarray.reshape(1,x*y)[0]\n",
    "backTOoneD"
   ]
  },
  {
   "cell_type": "code",
   "execution_count": 228,
   "id": "27557e78",
   "metadata": {},
   "outputs": [],
   "source": [
    "array_1 = np.array([[1,2,3],\n",
    "                    [4,5,6]])\n",
    "array_2 = np.array([[1,5,3],\n",
    "                    [4,2,3]])\n",
    "array_3 = np.array([[4,6],\n",
    "                    [1,2]])\n",
    "\n",
    "#vstaack\n",
    "v_stacck = np.vstack((array_1, array_2))\n",
    "h_stacck = np.hstack((array_1, array_2))"
   ]
  },
  {
   "cell_type": "code",
   "execution_count": 225,
   "id": "08734210",
   "metadata": {},
   "outputs": [
    {
     "data": {
      "text/plain": [
       "array([[1, 2, 3],\n",
       "       [4, 5, 6],\n",
       "       [1, 5, 3],\n",
       "       [4, 2, 3]])"
      ]
     },
     "execution_count": 225,
     "metadata": {},
     "output_type": "execute_result"
    }
   ],
   "source": [
    "v_stacck"
   ]
  },
  {
   "cell_type": "code",
   "execution_count": 226,
   "id": "6ce8356b",
   "metadata": {},
   "outputs": [
    {
     "data": {
      "text/plain": [
       "array([[1, 2, 3, 1, 5, 3],\n",
       "       [4, 5, 6, 4, 2, 3]])"
      ]
     },
     "execution_count": 226,
     "metadata": {},
     "output_type": "execute_result"
    }
   ],
   "source": [
    "h_stacck"
   ]
  },
  {
   "cell_type": "code",
   "execution_count": 229,
   "id": "8149d3f0",
   "metadata": {},
   "outputs": [
    {
     "data": {
      "text/plain": [
       "array([[1, 2, 3, 4, 6],\n",
       "       [4, 5, 6, 1, 2]])"
      ]
     },
     "execution_count": 229,
     "metadata": {},
     "output_type": "execute_result"
    }
   ],
   "source": [
    "h_stacckArr3 = np.hstack((array_1, array_3))\n",
    "h_stacckArr3"
   ]
  },
  {
   "cell_type": "code",
   "execution_count": null,
   "id": "c0f4706b",
   "metadata": {},
   "outputs": [],
   "source": []
  },
  {
   "cell_type": "code",
   "execution_count": 234,
   "id": "ed2e17db",
   "metadata": {},
   "outputs": [],
   "source": [
    "# lenaImg = .imgread('./lena.jpeg')"
   ]
  },
  {
   "cell_type": "code",
   "execution_count": null,
   "id": "2ac2dd73",
   "metadata": {},
   "outputs": [],
   "source": []
  }
 ],
 "metadata": {
  "kernelspec": {
   "display_name": "Python 3",
   "language": "python",
   "name": "python3"
  },
  "language_info": {
   "codemirror_mode": {
    "name": "ipython",
    "version": 3
   },
   "file_extension": ".py",
   "mimetype": "text/x-python",
   "name": "python",
   "nbconvert_exporter": "python",
   "pygments_lexer": "ipython3",
   "version": "3.8.5"
  },
  "toc": {
   "base_numbering": 1,
   "nav_menu": {},
   "number_sections": true,
   "sideBar": true,
   "skip_h1_title": false,
   "title_cell": "Table of Contents",
   "title_sidebar": "Contents",
   "toc_cell": false,
   "toc_position": {},
   "toc_section_display": true,
   "toc_window_display": false
  }
 },
 "nbformat": 4,
 "nbformat_minor": 5
}
