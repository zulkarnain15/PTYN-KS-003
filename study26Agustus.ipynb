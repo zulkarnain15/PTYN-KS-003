{
 "cells": [
  {
   "cell_type": "markdown",
   "id": "bfe07627",
   "metadata": {},
   "source": [
    "### condition"
   ]
  },
  {
   "cell_type": "code",
   "execution_count": 1,
   "id": "544334ef",
   "metadata": {},
   "outputs": [
    {
     "name": "stdout",
     "output_type": "stream",
     "text": [
      "input nilai a: 90\n",
      "not eq\n"
     ]
    }
   ],
   "source": [
    "# equals a == b\n",
    "\n",
    "a = int(input('input nilai a: '))\n",
    "b = 200\n",
    "\n",
    "if a == b:\n",
    "    print('eq')\n",
    "else:\n",
    "    print('not eq')"
   ]
  },
  {
   "cell_type": "code",
   "execution_count": 2,
   "id": "b39cc83b",
   "metadata": {},
   "outputs": [
    {
     "name": "stdout",
     "output_type": "stream",
     "text": [
      "input nilai :100\n",
      "A\n"
     ]
    }
   ],
   "source": [
    "# contoh kasus\n",
    "\n",
    "# user input nilai dalam angka\n",
    "# jika input > 90 maka nilai huruf A,\n",
    "# jika nilai =<90 dan >70 maka nilai huruf B,\n",
    "# jika nilai <=70 dan > 50 maka C,\n",
    "# jika nilai <=50 dan > 30 maka D,\n",
    "# selain itu E\n",
    "\n",
    "\n",
    "nilai = int(input('input nilai :'))\n",
    "\n",
    "if (nilai > 90):\n",
    "    print('A')\n",
    "elif (nilai <= 90 and nilai > 70):\n",
    "    print('B')\n",
    "elif (nilai <= 70 and nilai > 50):\n",
    "    print('C')\n",
    "elif (nilai <= 50 and nilai > 30):\n",
    "    print('D')\n",
    "else:\n",
    "    print('E')"
   ]
  },
  {
   "cell_type": "markdown",
   "id": "fc6bdcc0",
   "metadata": {},
   "source": [
    "### Perulangan"
   ]
  },
  {
   "cell_type": "code",
   "execution_count": 3,
   "id": "8130bccf",
   "metadata": {},
   "outputs": [
    {
     "name": "stdout",
     "output_type": "stream",
     "text": [
      "perulangan ke 1\n",
      "perulangan ke 2\n",
      "perulangan ke 3\n",
      "perulangan ke 4\n",
      "perulangan ke 5\n",
      "perulangan ke 6\n",
      "perulangan ke 7\n",
      "perulangan ke 8\n",
      "perulangan ke 9\n",
      "perulangan ke 10\n"
     ]
    }
   ],
   "source": [
    "# while\n",
    "\n",
    "i = 0\n",
    "while i < 10:\n",
    "    i += 1\n",
    "    print('perulangan ke', i)"
   ]
  },
  {
   "cell_type": "code",
   "execution_count": 11,
   "id": "96ef0d9e",
   "metadata": {},
   "outputs": [
    {
     "name": "stdout",
     "output_type": "stream",
     "text": [
      "masukkan nilai 20\n",
      "E\n",
      "masukkan nilai 21\n",
      "E\n",
      "masukkan nilai 34\n",
      "D\n",
      "masukkan nilai 56\n",
      "C\n",
      "masukkan nilai 77\n",
      "B\n",
      "masukkan nilai exit\n"
     ]
    }
   ],
   "source": [
    "nilaiStr = ''\n",
    "while True:\n",
    "    nilaiStr = input('masukkan nilai ')\n",
    "    if not nilaiStr.isnumeric():\n",
    "        break\n",
    "    nilai = int(nilaiStr)\n",
    "    if nilai > 90:\n",
    "        print('A')\n",
    "    elif nilai <= 90 and nilai > 70:\n",
    "        print('B')\n",
    "    elif nilai <= 70 and nilai > 50:\n",
    "        print('C')\n",
    "    elif nilai <= 50 and nilai > 30:\n",
    "        print('D')\n",
    "    else:\n",
    "        print('E')"
   ]
  },
  {
   "cell_type": "code",
   "execution_count": 10,
   "id": "e5601317",
   "metadata": {},
   "outputs": [
    {
     "name": "stdout",
     "output_type": "stream",
     "text": [
      "masukkan nilai:20\n",
      "90\n"
     ]
    }
   ],
   "source": [
    "nilai = int(input('masukkan nilai:'))\n",
    "i = 0\n",
    "total = 0\n",
    "while i < nilai:\n",
    "    if i % 2 == 0:\n",
    "        total += i\n",
    "    i += 1\n",
    "print(total)"
   ]
  },
  {
   "cell_type": "code",
   "execution_count": 12,
   "id": "291ad39c",
   "metadata": {},
   "outputs": [
    {
     "name": "stdout",
     "output_type": "stream",
     "text": [
      "1\n",
      "masukkan angka dari 1 - 10 : 2\n",
      "1\n",
      "masukkan angka dari 1 - 10 : 3\n",
      "1\n",
      "masukkan angka dari 1 - 10 : 4\n",
      "1\n",
      "masukkan angka dari 1 - 10 : 1\n",
      "jawaban anda benar\n"
     ]
    }
   ],
   "source": [
    "from random import randint\n",
    "\n",
    "isUserCorrect = ''\n",
    "randomNumber = randint(0, 10)\n",
    "\n",
    "while not isUserCorrect:\n",
    "    print(randomNumber)\n",
    "    nilaiStr = input('masukkan angka dari 1 - 10 : ')\n",
    "    if not nilaiStr.isnumeric():\n",
    "        break\n",
    "    isUserCorrect = int(nilaiStr) == randomNumber\n",
    "else:\n",
    "    print('jawaban anda benar')"
   ]
  },
  {
   "cell_type": "markdown",
   "id": "d9e3cb65",
   "metadata": {},
   "source": [
    "# "
   ]
  },
  {
   "cell_type": "code",
   "execution_count": 5,
   "id": "30c9db41",
   "metadata": {},
   "outputs": [
    {
     "name": "stdout",
     "output_type": "stream",
     "text": [
      "*\n",
      "**\n",
      "***\n",
      "****\n",
      "*****\n",
      "\n"
     ]
    }
   ],
   "source": [
    "row = 5\n",
    "i = 0\n",
    "disp = ''\n",
    "while i < row:\n",
    "    col = i + 1\n",
    "    j = 0\n",
    "    while j < col:\n",
    "        disp += '*'\n",
    "        j += 1\n",
    "    disp += '\\n'\n",
    "    i = col\n",
    "print(disp)"
   ]
  },
  {
   "cell_type": "code",
   "execution_count": 15,
   "id": "b23a8310",
   "metadata": {},
   "outputs": [
    {
     "name": "stdout",
     "output_type": "stream",
     "text": [
      "0\n",
      "1\n",
      "2\n",
      "3\n",
      "4\n"
     ]
    }
   ],
   "source": [
    "#loop\n",
    "\n",
    "for i in range(5):\n",
    "    print(i)"
   ]
  },
  {
   "cell_type": "code",
   "execution_count": 6,
   "id": "b2150e58",
   "metadata": {},
   "outputs": [
    {
     "name": "stdout",
     "output_type": "stream",
     "text": [
      "masukkan hobbies game\n",
      "masukkan hobbies musik\n",
      "masukkan hobbies stop\n",
      "masukkan nama zulkarnain\n",
      "masukkan umur 21\n",
      "masukkan pekerjaan mahasiswa\n",
      "{'hobbies': ['game', 'musik', 'stop'], 'nama': 'zulkarnain', 'umur': '21', 'pekerjaan': 'mahasiswa'}\n"
     ]
    }
   ],
   "source": [
    "myDict = {'hobbies': [], 'nama': '', 'umur': '', 'pekerjaan': ''}\n",
    "\n",
    "for key in myDict:\n",
    "    if(key == 'hobbies'):\n",
    "        userInput = ''\n",
    "        while userInput != 'stop':\n",
    "            userInput = input('masukkan {} '.format(key))\n",
    "            myDict[key].append(userInput)\n",
    "    else:\n",
    "        userInput = input('masukkan {} '.format(key))\n",
    "        myDict[key] = userInput\n",
    "\n",
    "print(myDict)"
   ]
  },
  {
   "cell_type": "code",
   "execution_count": null,
   "id": "1d7ccd06",
   "metadata": {},
   "outputs": [],
   "source": []
  },
  {
   "cell_type": "code",
   "execution_count": null,
   "id": "63cd8dc2",
   "metadata": {},
   "outputs": [],
   "source": [
    "abs"
   ]
  }
 ],
 "metadata": {
  "kernelspec": {
   "display_name": "Python 3",
   "language": "python",
   "name": "python3"
  },
  "language_info": {
   "codemirror_mode": {
    "name": "ipython",
    "version": 3
   },
   "file_extension": ".py",
   "mimetype": "text/x-python",
   "name": "python",
   "nbconvert_exporter": "python",
   "pygments_lexer": "ipython3",
   "version": "3.8.5"
  },
  "toc": {
   "base_numbering": 1,
   "nav_menu": {},
   "number_sections": true,
   "sideBar": true,
   "skip_h1_title": false,
   "title_cell": "Table of Contents",
   "title_sidebar": "Contents",
   "toc_cell": false,
   "toc_position": {},
   "toc_section_display": true,
   "toc_window_display": false
  }
 },
 "nbformat": 4,
 "nbformat_minor": 5
}
