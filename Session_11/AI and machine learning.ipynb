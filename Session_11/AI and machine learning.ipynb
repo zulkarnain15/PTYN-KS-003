{
 "cells": [
  {
   "cell_type": "markdown",
   "id": "087efe15",
   "metadata": {},
   "source": [
    "## Regression"
   ]
  },
  {
   "cell_type": "code",
   "execution_count": 4,
   "id": "05f9e899",
   "metadata": {},
   "outputs": [],
   "source": [
    "import numpy as np\n",
    "import matplotlib.pyplot as plt\n",
    "from sklearn.linear_model import LinearRegression\n",
    "from sklearn.pipeline import make_pipeline\n",
    "from sklearn.preprocessing import PolynomialFeatures"
   ]
  },
  {
   "cell_type": "code",
   "execution_count": 18,
   "id": "4a2a51ee",
   "metadata": {},
   "outputs": [],
   "source": [
    "x = np.array([5,15,25,35,45,55]).reshape((-1, 1))\n",
    "y = np.array([5,20,14,32,22,30])"
   ]
  },
  {
   "cell_type": "code",
   "execution_count": 19,
   "id": "9f3cff99",
   "metadata": {},
   "outputs": [
    {
     "name": "stdout",
     "output_type": "stream",
     "text": [
      "[[ 5]\n",
      " [15]\n",
      " [25]\n",
      " [35]\n",
      " [45]\n",
      " [55]]\n",
      "[ 5 20 14 32 22 30]\n"
     ]
    }
   ],
   "source": [
    "print(x)\n",
    "print(y)"
   ]
  },
  {
   "cell_type": "code",
   "execution_count": 20,
   "id": "d1e3fd4d",
   "metadata": {},
   "outputs": [
    {
     "data": {
      "text/plain": [
       "LinearRegression()"
      ]
     },
     "execution_count": 20,
     "metadata": {},
     "output_type": "execute_result"
    }
   ],
   "source": [
    "model = LinearRegression() \n",
    "model.fit(x, y)"
   ]
  },
  {
   "cell_type": "code",
   "execution_count": 22,
   "id": "1727617f",
   "metadata": {},
   "outputs": [
    {
     "data": {
      "text/plain": [
       "array([14.11428571])"
      ]
     },
     "execution_count": 22,
     "metadata": {},
     "output_type": "execute_result"
    }
   ],
   "source": [
    "model.predict([x[1]])"
   ]
  },
  {
   "cell_type": "code",
   "execution_count": 24,
   "id": "cd0a27ff",
   "metadata": {},
   "outputs": [
    {
     "data": {
      "text/plain": [
       "0.6249401829697395"
      ]
     },
     "execution_count": 24,
     "metadata": {},
     "output_type": "execute_result"
    }
   ],
   "source": [
    "r = model.score(x, y)\n",
    "r"
   ]
  },
  {
   "cell_type": "code",
   "execution_count": 26,
   "id": "3c03829c",
   "metadata": {},
   "outputs": [],
   "source": [
    "y_pred = model.predict(x)"
   ]
  },
  {
   "cell_type": "code",
   "execution_count": 27,
   "id": "4b8aaedd",
   "metadata": {},
   "outputs": [
    {
     "data": {
      "image/png": "[encoded data removed]",
      "text/plain": [
       "<Figure size 640x480 with 1 Axes>"
      ]
     },
     "metadata": {},
     "output_type": "display_data"
    }
   ],
   "source": [
    "plt.scatter(x, y)\n",
    "plt.plot(x, y_pred, color=\"green\")\n",
    "plt.show()"
   ]
  },
  {
   "cell_type": "code",
   "execution_count": 28,
   "id": "27bf33fe",
   "metadata": {},
   "outputs": [],
   "source": [
    "x= [[0, 1],[5,1], [15,2], [25,5],[35,11], [45,15],[55,34],[60,35]]\n",
    "y= [4,5,20,14,32,22,38,43]\n",
    "x , y = np.array(x),  np.array(y)"
   ]
  },
  {
   "cell_type": "code",
   "execution_count": 41,
   "id": "edc759cb",
   "metadata": {},
   "outputs": [],
   "source": [
    "x , y = np.array(x), np.array(y)"
   ]
  },
  {
   "cell_type": "code",
   "execution_count": 42,
   "id": "ca065f0f",
   "metadata": {},
   "outputs": [],
   "source": [
    "# transformer = PolynomialFeatures(degree=2, include_bias=False)"
   ]
  },
  {
   "cell_type": "code",
   "execution_count": 43,
   "id": "dc62552e",
   "metadata": {},
   "outputs": [],
   "source": [
    "# transformer.fit(x)"
   ]
  },
  {
   "cell_type": "code",
   "execution_count": 44,
   "id": "1a1c4e46",
   "metadata": {},
   "outputs": [],
   "source": [
    "# x_ = transformer.transform(x)"
   ]
  },
  {
   "cell_type": "code",
   "execution_count": 45,
   "id": "aabff7cb",
   "metadata": {},
   "outputs": [],
   "source": [
    "# print(x_)"
   ]
  },
  {
   "cell_type": "code",
   "execution_count": 34,
   "id": "4e0c2b53",
   "metadata": {},
   "outputs": [],
   "source": [
    "model = LinearRegression().fit(x_, y)"
   ]
  },
  {
   "cell_type": "code",
   "execution_count": 36,
   "id": "a434b830",
   "metadata": {},
   "outputs": [
    {
     "data": {
      "text/plain": [
       "0.9453701449127822"
      ]
     },
     "execution_count": 36,
     "metadata": {},
     "output_type": "execute_result"
    }
   ],
   "source": [
    "r_sq = model.score(x_, y)\n",
    "r_sq"
   ]
  },
  {
   "cell_type": "code",
   "execution_count": 46,
   "id": "f48bd8b7",
   "metadata": {},
   "outputs": [],
   "source": [
    "x_ = PolynomialFeatures(degree=2, include_bias=False).fit_transform(x)"
   ]
  },
  {
   "cell_type": "code",
   "execution_count": 47,
   "id": "d66722a0",
   "metadata": {},
   "outputs": [
    {
     "name": "stdout",
     "output_type": "stream",
     "text": [
      "[[0.000e+00 1.000e+00 0.000e+00 0.000e+00 1.000e+00]\n",
      " [5.000e+00 1.000e+00 2.500e+01 5.000e+00 1.000e+00]\n",
      " [1.500e+01 2.000e+00 2.250e+02 3.000e+01 4.000e+00]\n",
      " [2.500e+01 5.000e+00 6.250e+02 1.250e+02 2.500e+01]\n",
      " [3.500e+01 1.100e+01 1.225e+03 3.850e+02 1.210e+02]\n",
      " [4.500e+01 1.500e+01 2.025e+03 6.750e+02 2.250e+02]\n",
      " [5.500e+01 3.400e+01 3.025e+03 1.870e+03 1.156e+03]\n",
      " [6.000e+01 3.500e+01 3.600e+03 2.100e+03 1.225e+03]]\n"
     ]
    }
   ],
   "source": [
    "print(x_)"
   ]
  },
  {
   "cell_type": "code",
   "execution_count": 48,
   "id": "d151b08a",
   "metadata": {},
   "outputs": [],
   "source": [
    "model = LinearRegression().fit(x_, y)"
   ]
  },
  {
   "cell_type": "code",
   "execution_count": 49,
   "id": "dd4d1156",
   "metadata": {},
   "outputs": [],
   "source": [
    "r_sq = model.score(x_, y)\n",
    "intercept, coefficients = model.intercept_, model.coef_"
   ]
  },
  {
   "cell_type": "code",
   "execution_count": 50,
   "id": "82b036e7",
   "metadata": {},
   "outputs": [],
   "source": [
    "y_pred = model.predict(x_)"
   ]
  },
  {
   "cell_type": "code",
   "execution_count": null,
   "id": "0049c142",
   "metadata": {},
   "outputs": [],
   "source": []
  }
 ],
 "metadata": {
  "kernelspec": {
   "display_name": "Python 3",
   "language": "python",
   "name": "python3"
  },
  "language_info": {
   "codemirror_mode": {
    "name": "ipython",
    "version": 3
   },
   "file_extension": ".py",
   "mimetype": "text/x-python",
   "name": "python",
   "nbconvert_exporter": "python",
   "pygments_lexer": "ipython3",
   "version": "3.8.5"
  },
  "toc": {
   "base_numbering": 1,
   "nav_menu": {},
   "number_sections": true,
   "sideBar": true,
   "skip_h1_title": false,
   "title_cell": "Table of Contents",
   "title_sidebar": "Contents",
   "toc_cell": false,
   "toc_position": {},
   "toc_section_display": true,
   "toc_window_display": false
  }
 },
 "nbformat": 4,
 "nbformat_minor": 5
}
