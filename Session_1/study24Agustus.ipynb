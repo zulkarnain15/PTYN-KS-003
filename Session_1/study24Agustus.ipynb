{
 "cells": [
  {
   "cell_type": "markdown",
   "id": "ca1e8910",
   "metadata": {},
   "source": [
    "### Number"
   ]
  },
  {
   "cell_type": "code",
   "execution_count": 12,
   "id": "4b29e76b",
   "metadata": {},
   "outputs": [
    {
     "name": "stdout",
     "output_type": "stream",
     "text": [
      "12\n",
      "1.5\n",
      "13.5\n"
     ]
    }
   ],
   "source": [
    "#number\n",
    "\n",
    "myInt = 12\n",
    "myFloat = 1.5\n",
    "\n",
    "hasil = myInt + myFloat\n",
    "\n",
    "print(myInt)\n",
    "print(myFloat)\n",
    "print(hasil)"
   ]
  },
  {
   "cell_type": "markdown",
   "id": "7de182e5",
   "metadata": {},
   "source": [
    "### String"
   ]
  },
  {
   "cell_type": "code",
   "execution_count": 16,
   "id": "ff93c1f2",
   "metadata": {},
   "outputs": [
    {
     "name": "stdout",
     "output_type": "stream",
     "text": [
      "<class 'str'>\n"
     ]
    }
   ],
   "source": [
    "myString = 'saya'\n",
    "print(type(myString))"
   ]
  },
  {
   "cell_type": "markdown",
   "id": "d688ad64",
   "metadata": {},
   "source": [
    "### Boolean"
   ]
  },
  {
   "cell_type": "code",
   "execution_count": 17,
   "id": "d4f32216",
   "metadata": {},
   "outputs": [
    {
     "data": {
      "text/plain": [
       "True"
      ]
     },
     "execution_count": 17,
     "metadata": {},
     "output_type": "execute_result"
    }
   ],
   "source": [
    "myBool = 10\n",
    "\n",
    "myBool == 10"
   ]
  },
  {
   "cell_type": "code",
   "execution_count": 15,
   "id": "74b6a4c9",
   "metadata": {},
   "outputs": [
    {
     "name": "stdout",
     "output_type": "stream",
     "text": [
      "7\n",
      "1\n",
      "12\n",
      "1.3333333333333333\n",
      "1\n",
      "64\n"
     ]
    }
   ],
   "source": [
    "a = 4\n",
    "b = 3\n",
    "\n",
    "print(a + b)\n",
    "print(a - b)\n",
    "print(a * b)\n",
    "print(a / b)\n",
    "print(a % b)\n",
    "print(a ** b)"
   ]
  },
  {
   "cell_type": "code",
   "execution_count": null,
   "id": "72ef1935",
   "metadata": {},
   "outputs": [],
   "source": []
  },
  {
   "cell_type": "code",
   "execution_count": null,
   "id": "4bb80c45",
   "metadata": {},
   "outputs": [],
   "source": []
  },
  {
   "cell_type": "markdown",
   "id": "ba17a841",
   "metadata": {},
   "source": [
    "### List"
   ]
  },
  {
   "cell_type": "code",
   "execution_count": 2,
   "id": "e75d4453",
   "metadata": {},
   "outputs": [
    {
     "data": {
      "text/plain": [
       "[10, 9, 8, 7]"
      ]
     },
     "execution_count": 2,
     "metadata": {},
     "output_type": "execute_result"
    }
   ],
   "source": [
    "myList = [10, 9, 8, 7]\n",
    "myList"
   ]
  },
  {
   "cell_type": "code",
   "execution_count": 3,
   "id": "d8bed63c",
   "metadata": {},
   "outputs": [
    {
     "data": {
      "text/plain": [
       "[1, 2, 3, 8, 7]"
      ]
     },
     "execution_count": 3,
     "metadata": {},
     "output_type": "execute_result"
    }
   ],
   "source": [
    "myList[:2] = [1, 2, 3]\n",
    "myList"
   ]
  },
  {
   "cell_type": "markdown",
   "id": "5dda4300",
   "metadata": {},
   "source": [
    "### Tuple"
   ]
  },
  {
   "cell_type": "code",
   "execution_count": 22,
   "id": "6d369c43",
   "metadata": {},
   "outputs": [
    {
     "name": "stdout",
     "output_type": "stream",
     "text": [
      "(1, 2, 3, 4, 5)\n",
      "<class 'tuple'>\n"
     ]
    }
   ],
   "source": [
    "myTuple = (1, 2, 3, 4, 5)\n",
    "\n",
    "print(myTuple)\n",
    "print(type(myTuple))"
   ]
  },
  {
   "cell_type": "markdown",
   "id": "c9a55176",
   "metadata": {},
   "source": [
    "### Dictionary"
   ]
  },
  {
   "cell_type": "code",
   "execution_count": 5,
   "id": "9b9e8256",
   "metadata": {},
   "outputs": [],
   "source": [
    "aboutMe = {'name':'Zulkarnain', 'age':21, 'hobbies':['game', 'movie']}"
   ]
  },
  {
   "cell_type": "code",
   "execution_count": 6,
   "id": "6382137d",
   "metadata": {},
   "outputs": [
    {
     "data": {
      "text/plain": [
       "{'name': 'Zulkarnain', 'age': 21, 'hobbies': ['game', 'movie']}"
      ]
     },
     "execution_count": 6,
     "metadata": {},
     "output_type": "execute_result"
    }
   ],
   "source": [
    "aboutMe"
   ]
  },
  {
   "cell_type": "code",
   "execution_count": 8,
   "id": "ec438044",
   "metadata": {},
   "outputs": [],
   "source": [
    "aboutMe['name'] = 'izul'"
   ]
  },
  {
   "cell_type": "code",
   "execution_count": 9,
   "id": "619dd96d",
   "metadata": {},
   "outputs": [
    {
     "data": {
      "text/plain": [
       "{'name': 'izul', 'age': 21, 'hobbies': ['game', 'movie']}"
      ]
     },
     "execution_count": 9,
     "metadata": {},
     "output_type": "execute_result"
    }
   ],
   "source": [
    "aboutMe"
   ]
  },
  {
   "cell_type": "code",
   "execution_count": null,
   "id": "4650cd16",
   "metadata": {},
   "outputs": [],
   "source": []
  },
  {
   "cell_type": "code",
   "execution_count": null,
   "id": "7790ad82",
   "metadata": {},
   "outputs": [],
   "source": []
  }
 ],
 "metadata": {
  "kernelspec": {
   "display_name": "Python 3",
   "language": "python",
   "name": "python3"
  },
  "language_info": {
   "codemirror_mode": {
    "name": "ipython",
    "version": 3
   },
   "file_extension": ".py",
   "mimetype": "text/x-python",
   "name": "python",
   "nbconvert_exporter": "python",
   "pygments_lexer": "ipython3",
   "version": "3.8.5"
  }
 },
 "nbformat": 4,
 "nbformat_minor": 5
}
